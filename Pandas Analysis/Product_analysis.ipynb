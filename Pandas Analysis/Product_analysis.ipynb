{
 "cells": [
  {
   "cell_type": "code",
   "execution_count": 5,
   "id": "dafb93e2-ab23-4f36-814d-3b96a21f0c99",
   "metadata": {},
   "outputs": [],
   "source": [
    "import pandas as pd"
   ]
  },
  {
   "cell_type": "code",
   "execution_count": 7,
   "id": "9e2a676e-631d-4794-8eee-56cf6cf22958",
   "metadata": {},
   "outputs": [],
   "source": [
    "data=pd.read_csv('Cafe.csv')"
   ]
  },
  {
   "cell_type": "code",
   "execution_count": 8,
   "id": "e3fd12ee-aa21-4104-b1c3-6affc8390d07",
   "metadata": {},
   "outputs": [
    {
     "data": {
      "text/html": [
       "<div>\n",
       "<style scoped>\n",
       "    .dataframe tbody tr th:only-of-type {\n",
       "        vertical-align: middle;\n",
       "    }\n",
       "\n",
       "    .dataframe tbody tr th {\n",
       "        vertical-align: top;\n",
       "    }\n",
       "\n",
       "    .dataframe thead th {\n",
       "        text-align: right;\n",
       "    }\n",
       "</style>\n",
       "<table border=\"1\" class=\"dataframe\">\n",
       "  <thead>\n",
       "    <tr style=\"text-align: right;\">\n",
       "      <th></th>\n",
       "      <th>Item ID</th>\n",
       "      <th>Category Name</th>\n",
       "      <th>Item Name</th>\n",
       "      <th>Unnamed: 3</th>\n",
       "      <th>Quantity</th>\n",
       "      <th>Avg. Price</th>\n",
       "      <th>Stock Value</th>\n",
       "      <th>Unnamed: 7</th>\n",
       "    </tr>\n",
       "  </thead>\n",
       "  <tbody>\n",
       "    <tr>\n",
       "      <th>0</th>\n",
       "      <td>1.0</td>\n",
       "      <td>Beverages</td>\n",
       "      <td>Coke 1.5--ltr</td>\n",
       "      <td>NaN</td>\n",
       "      <td>42.0</td>\n",
       "      <td>166.62</td>\n",
       "      <td>6998.04</td>\n",
       "      <td>NaN</td>\n",
       "    </tr>\n",
       "    <tr>\n",
       "      <th>1</th>\n",
       "      <td>2.0</td>\n",
       "      <td>Beverages</td>\n",
       "      <td>coke1 Ltr--Ltr</td>\n",
       "      <td>NaN</td>\n",
       "      <td>42.0</td>\n",
       "      <td>142.35</td>\n",
       "      <td>5978.70</td>\n",
       "      <td>NaN</td>\n",
       "    </tr>\n",
       "    <tr>\n",
       "      <th>2</th>\n",
       "      <td>5.0</td>\n",
       "      <td>Beverages</td>\n",
       "      <td>Large Water--</td>\n",
       "      <td>NaN</td>\n",
       "      <td>90.0</td>\n",
       "      <td>58.34</td>\n",
       "      <td>5250.60</td>\n",
       "      <td>NaN</td>\n",
       "    </tr>\n",
       "    <tr>\n",
       "      <th>3</th>\n",
       "      <td>6.0</td>\n",
       "      <td>Beverages</td>\n",
       "      <td>Small Water--</td>\n",
       "      <td>NaN</td>\n",
       "      <td>90.0</td>\n",
       "      <td>30.83</td>\n",
       "      <td>2774.70</td>\n",
       "      <td>NaN</td>\n",
       "    </tr>\n",
       "    <tr>\n",
       "      <th>4</th>\n",
       "      <td>7.0</td>\n",
       "      <td>Grocery Items</td>\n",
       "      <td>Acha Cheese--</td>\n",
       "      <td>NaN</td>\n",
       "      <td>25.0</td>\n",
       "      <td>2700.00</td>\n",
       "      <td>67500.00</td>\n",
       "      <td>NaN</td>\n",
       "    </tr>\n",
       "  </tbody>\n",
       "</table>\n",
       "</div>"
      ],
      "text/plain": [
       "   Item ID  Category Name       Item Name  Unnamed: 3  Quantity  Avg. Price  \\\n",
       "0      1.0      Beverages   Coke 1.5--ltr         NaN      42.0      166.62   \n",
       "1      2.0      Beverages  coke1 Ltr--Ltr         NaN      42.0      142.35   \n",
       "2      5.0      Beverages   Large Water--         NaN      90.0       58.34   \n",
       "3      6.0      Beverages   Small Water--         NaN      90.0       30.83   \n",
       "4      7.0  Grocery Items   Acha Cheese--         NaN      25.0     2700.00   \n",
       "\n",
       "   Stock Value  Unnamed: 7  \n",
       "0      6998.04         NaN  \n",
       "1      5978.70         NaN  \n",
       "2      5250.60         NaN  \n",
       "3      2774.70         NaN  \n",
       "4     67500.00         NaN  "
      ]
     },
     "execution_count": 8,
     "metadata": {},
     "output_type": "execute_result"
    }
   ],
   "source": [
    "data.head()"
   ]
  },
  {
   "cell_type": "code",
   "execution_count": 22,
   "id": "725da69c-8dc2-4aab-99c5-e66f43742b50",
   "metadata": {},
   "outputs": [
    {
     "data": {
      "text/plain": [
       "Index(['Item ID', 'Category Name', 'Item Name', 'Quantity', 'Avg. Price',\n",
       "       'Stock Value'],\n",
       "      dtype='object')"
      ]
     },
     "execution_count": 22,
     "metadata": {},
     "output_type": "execute_result"
    }
   ],
   "source": [
    "data.columns"
   ]
  },
  {
   "cell_type": "code",
   "execution_count": 25,
   "id": "d45f0eef-053b-40e0-80bd-1aaef34fb3a0",
   "metadata": {},
   "outputs": [],
   "source": [
    "data=data.drop(columns=\"Item ID\", axis=1)"
   ]
  },
  {
   "cell_type": "code",
   "execution_count": 28,
   "id": "a3564751-276d-4fd3-a87c-e622c7337ee9",
   "metadata": {},
   "outputs": [
    {
     "data": {
      "text/html": [
       "<div>\n",
       "<style scoped>\n",
       "    .dataframe tbody tr th:only-of-type {\n",
       "        vertical-align: middle;\n",
       "    }\n",
       "\n",
       "    .dataframe tbody tr th {\n",
       "        vertical-align: top;\n",
       "    }\n",
       "\n",
       "    .dataframe thead th {\n",
       "        text-align: right;\n",
       "    }\n",
       "</style>\n",
       "<table border=\"1\" class=\"dataframe\">\n",
       "  <thead>\n",
       "    <tr style=\"text-align: right;\">\n",
       "      <th></th>\n",
       "      <th>Category Name</th>\n",
       "      <th>Item Name</th>\n",
       "      <th>Quantity</th>\n",
       "      <th>Avg. Price</th>\n",
       "      <th>Stock Value</th>\n",
       "    </tr>\n",
       "  </thead>\n",
       "  <tbody>\n",
       "    <tr>\n",
       "      <th>0</th>\n",
       "      <td>Beverages</td>\n",
       "      <td>Coke 1.5--ltr</td>\n",
       "      <td>42.0</td>\n",
       "      <td>166.62</td>\n",
       "      <td>6998.04</td>\n",
       "    </tr>\n",
       "    <tr>\n",
       "      <th>1</th>\n",
       "      <td>Beverages</td>\n",
       "      <td>coke1 Ltr--Ltr</td>\n",
       "      <td>42.0</td>\n",
       "      <td>142.35</td>\n",
       "      <td>5978.70</td>\n",
       "    </tr>\n",
       "    <tr>\n",
       "      <th>2</th>\n",
       "      <td>Beverages</td>\n",
       "      <td>Large Water--</td>\n",
       "      <td>90.0</td>\n",
       "      <td>58.34</td>\n",
       "      <td>5250.60</td>\n",
       "    </tr>\n",
       "    <tr>\n",
       "      <th>3</th>\n",
       "      <td>Beverages</td>\n",
       "      <td>Small Water--</td>\n",
       "      <td>90.0</td>\n",
       "      <td>30.83</td>\n",
       "      <td>2774.70</td>\n",
       "    </tr>\n",
       "    <tr>\n",
       "      <th>4</th>\n",
       "      <td>Grocery Items</td>\n",
       "      <td>Acha Cheese--</td>\n",
       "      <td>25.0</td>\n",
       "      <td>2700.00</td>\n",
       "      <td>67500.00</td>\n",
       "    </tr>\n",
       "  </tbody>\n",
       "</table>\n",
       "</div>"
      ],
      "text/plain": [
       "   Category Name       Item Name  Quantity  Avg. Price  Stock Value\n",
       "0      Beverages   Coke 1.5--ltr      42.0      166.62      6998.04\n",
       "1      Beverages  coke1 Ltr--Ltr      42.0      142.35      5978.70\n",
       "2      Beverages   Large Water--      90.0       58.34      5250.60\n",
       "3      Beverages   Small Water--      90.0       30.83      2774.70\n",
       "4  Grocery Items   Acha Cheese--      25.0     2700.00     67500.00"
      ]
     },
     "execution_count": 28,
     "metadata": {},
     "output_type": "execute_result"
    }
   ],
   "source": [
    "data.head()"
   ]
  },
  {
   "cell_type": "markdown",
   "id": "8ce4da1b-abe1-4090-9b42-f8fafaadf519",
   "metadata": {},
   "source": [
    "Total Stock value of all items"
   ]
  },
  {
   "cell_type": "code",
   "execution_count": 29,
   "id": "75476ac1-9edc-4fc6-a88e-cd8209636547",
   "metadata": {},
   "outputs": [
    {
     "data": {
      "text/plain": [
       "565843.9700000001"
      ]
     },
     "execution_count": 29,
     "metadata": {},
     "output_type": "execute_result"
    }
   ],
   "source": [
    "data[\"Stock Value\"].sum()"
   ]
  },
  {
   "cell_type": "markdown",
   "id": "8f676c91-d92d-43d5-be71-07178be0dbdc",
   "metadata": {},
   "source": [
    "Quantity per Category"
   ]
  },
  {
   "cell_type": "code",
   "execution_count": 35,
   "id": "08353234-af01-4f84-ac02-b1f7cfbeff62",
   "metadata": {},
   "outputs": [
    {
     "data": {
      "text/html": [
       "<div>\n",
       "<style scoped>\n",
       "    .dataframe tbody tr th:only-of-type {\n",
       "        vertical-align: middle;\n",
       "    }\n",
       "\n",
       "    .dataframe tbody tr th {\n",
       "        vertical-align: top;\n",
       "    }\n",
       "\n",
       "    .dataframe thead th {\n",
       "        text-align: right;\n",
       "    }\n",
       "</style>\n",
       "<table border=\"1\" class=\"dataframe\">\n",
       "  <thead>\n",
       "    <tr style=\"text-align: right;\">\n",
       "      <th></th>\n",
       "      <th>Category Name</th>\n",
       "      <th>Quantity</th>\n",
       "    </tr>\n",
       "  </thead>\n",
       "  <tbody>\n",
       "    <tr>\n",
       "      <th>0</th>\n",
       "      <td>Beverages</td>\n",
       "      <td>693.00</td>\n",
       "    </tr>\n",
       "    <tr>\n",
       "      <th>1</th>\n",
       "      <td>Canned Items</td>\n",
       "      <td>3.00</td>\n",
       "    </tr>\n",
       "    <tr>\n",
       "      <th>2</th>\n",
       "      <td>Cheese</td>\n",
       "      <td>4.00</td>\n",
       "    </tr>\n",
       "    <tr>\n",
       "      <th>3</th>\n",
       "      <td>Chicken Items</td>\n",
       "      <td>260.94</td>\n",
       "    </tr>\n",
       "    <tr>\n",
       "      <th>4</th>\n",
       "      <td>Dairy Item</td>\n",
       "      <td>19.16</td>\n",
       "    </tr>\n",
       "    <tr>\n",
       "      <th>5</th>\n",
       "      <td>Dawn Bread</td>\n",
       "      <td>105.90</td>\n",
       "    </tr>\n",
       "    <tr>\n",
       "      <th>6</th>\n",
       "      <td>Disposible Items</td>\n",
       "      <td>350.00</td>\n",
       "    </tr>\n",
       "    <tr>\n",
       "      <th>7</th>\n",
       "      <td>Flour</td>\n",
       "      <td>53.35</td>\n",
       "    </tr>\n",
       "    <tr>\n",
       "      <th>8</th>\n",
       "      <td>Grocery Items</td>\n",
       "      <td>45.99</td>\n",
       "    </tr>\n",
       "    <tr>\n",
       "      <th>9</th>\n",
       "      <td>K&amp;NS</td>\n",
       "      <td>63.82</td>\n",
       "    </tr>\n",
       "    <tr>\n",
       "      <th>10</th>\n",
       "      <td>Packing Items</td>\n",
       "      <td>836.00</td>\n",
       "    </tr>\n",
       "    <tr>\n",
       "      <th>11</th>\n",
       "      <td>Printing &amp; Stationery</td>\n",
       "      <td>1.00</td>\n",
       "    </tr>\n",
       "    <tr>\n",
       "      <th>12</th>\n",
       "      <td>Sabroso</td>\n",
       "      <td>56.10</td>\n",
       "    </tr>\n",
       "    <tr>\n",
       "      <th>13</th>\n",
       "      <td>Sauces &amp; Spices</td>\n",
       "      <td>72.10</td>\n",
       "    </tr>\n",
       "  </tbody>\n",
       "</table>\n",
       "</div>"
      ],
      "text/plain": [
       "            Category Name  Quantity\n",
       "0               Beverages    693.00\n",
       "1            Canned Items      3.00\n",
       "2                  Cheese      4.00\n",
       "3           Chicken Items    260.94\n",
       "4              Dairy Item     19.16\n",
       "5              Dawn Bread    105.90\n",
       "6        Disposible Items    350.00\n",
       "7                   Flour     53.35\n",
       "8           Grocery Items     45.99\n",
       "9                    K&NS     63.82\n",
       "10          Packing Items    836.00\n",
       "11  Printing & Stationery      1.00\n",
       "12                Sabroso     56.10\n",
       "13        Sauces & Spices     72.10"
      ]
     },
     "execution_count": 35,
     "metadata": {},
     "output_type": "execute_result"
    }
   ],
   "source": [
    "data.groupby('Category Name')['Quantity'].sum().reset_index()"
   ]
  },
  {
   "cell_type": "markdown",
   "id": "a00f01be-3847-4149-954c-301c9349efd0",
   "metadata": {},
   "source": [
    "Top 10 item by Stock value"
   ]
  },
  {
   "cell_type": "code",
   "execution_count": 43,
   "id": "07dc73b7-e6e2-407c-acd5-0263314f27c9",
   "metadata": {},
   "outputs": [],
   "source": [
    "top_items=data.groupby('Item Name')['Stock Value'].sum()"
   ]
  },
  {
   "cell_type": "code",
   "execution_count": 52,
   "id": "7362b39d-54a4-4136-931c-352b64e4e1f4",
   "metadata": {},
   "outputs": [],
   "source": [
    "top_items=top_items.sort_values().reset_index()"
   ]
  },
  {
   "cell_type": "markdown",
   "id": "93cfcd54-1c9b-4f1f-b65e-8e855edece46",
   "metadata": {},
   "source": [
    "top_items.tail()"
   ]
  },
  {
   "cell_type": "markdown",
   "id": "b7032a1a-bb5a-480c-bde1-ff05c56d4347",
   "metadata": {},
   "source": [
    "Higest and loweset Quantity Item"
   ]
  },
  {
   "cell_type": "code",
   "execution_count": 62,
   "id": "4ca004e2-55d9-41f6-9f76-78fc90595e51",
   "metadata": {},
   "outputs": [
    {
     "data": {
      "text/html": [
       "<div>\n",
       "<style scoped>\n",
       "    .dataframe tbody tr th:only-of-type {\n",
       "        vertical-align: middle;\n",
       "    }\n",
       "\n",
       "    .dataframe tbody tr th {\n",
       "        vertical-align: top;\n",
       "    }\n",
       "\n",
       "    .dataframe thead th {\n",
       "        text-align: right;\n",
       "    }\n",
       "</style>\n",
       "<table border=\"1\" class=\"dataframe\">\n",
       "  <thead>\n",
       "    <tr style=\"text-align: right;\">\n",
       "      <th></th>\n",
       "      <th>Category Name</th>\n",
       "      <th>Item Name</th>\n",
       "      <th>Quantity</th>\n",
       "      <th>Avg. Price</th>\n",
       "      <th>Stock Value</th>\n",
       "    </tr>\n",
       "  </thead>\n",
       "  <tbody>\n",
       "    <tr>\n",
       "      <th>37</th>\n",
       "      <td>Disposible Items</td>\n",
       "      <td>pp 09 Box--</td>\n",
       "      <td>350.0</td>\n",
       "      <td>5.25</td>\n",
       "      <td>1837.5</td>\n",
       "    </tr>\n",
       "  </tbody>\n",
       "</table>\n",
       "</div>"
      ],
      "text/plain": [
       "       Category Name    Item Name  Quantity  Avg. Price  Stock Value\n",
       "37  Disposible Items  pp 09 Box--     350.0        5.25       1837.5"
      ]
     },
     "execution_count": 62,
     "metadata": {},
     "output_type": "execute_result"
    }
   ],
   "source": [
    "data.sort_values('Quantity', ascending=False).head(1)"
   ]
  },
  {
   "cell_type": "code",
   "execution_count": 63,
   "id": "fbceab60-819c-4cf8-970c-f8375789e599",
   "metadata": {},
   "outputs": [
    {
     "data": {
      "text/html": [
       "<div>\n",
       "<style scoped>\n",
       "    .dataframe tbody tr th:only-of-type {\n",
       "        vertical-align: middle;\n",
       "    }\n",
       "\n",
       "    .dataframe tbody tr th {\n",
       "        vertical-align: top;\n",
       "    }\n",
       "\n",
       "    .dataframe thead th {\n",
       "        text-align: right;\n",
       "    }\n",
       "</style>\n",
       "<table border=\"1\" class=\"dataframe\">\n",
       "  <thead>\n",
       "    <tr style=\"text-align: right;\">\n",
       "      <th></th>\n",
       "      <th>Category Name</th>\n",
       "      <th>Item Name</th>\n",
       "      <th>Quantity</th>\n",
       "      <th>Avg. Price</th>\n",
       "      <th>Stock Value</th>\n",
       "    </tr>\n",
       "  </thead>\n",
       "  <tbody>\n",
       "    <tr>\n",
       "      <th>48</th>\n",
       "      <td>Sauces &amp; Spices</td>\n",
       "      <td>Chipottle Sauce Recipe--</td>\n",
       "      <td>0.1</td>\n",
       "      <td>380.0</td>\n",
       "      <td>38.0</td>\n",
       "    </tr>\n",
       "  </tbody>\n",
       "</table>\n",
       "</div>"
      ],
      "text/plain": [
       "      Category Name                 Item Name  Quantity  Avg. Price  \\\n",
       "48  Sauces & Spices  Chipottle Sauce Recipe--       0.1       380.0   \n",
       "\n",
       "    Stock Value  \n",
       "48         38.0  "
      ]
     },
     "execution_count": 63,
     "metadata": {},
     "output_type": "execute_result"
    }
   ],
   "source": [
    "data.sort_values('Quantity', ascending=True).head(1)"
   ]
  },
  {
   "cell_type": "markdown",
   "id": "98dec7be-131e-48ba-b96a-b1027d49c13d",
   "metadata": {},
   "source": [
    "top items by Stock value bar graph"
   ]
  },
  {
   "cell_type": "code",
   "execution_count": 64,
   "id": "908695c7-c8ab-4b60-80fe-b4d12a9329b0",
   "metadata": {},
   "outputs": [],
   "source": [
    "import matplotlib.pyplot as plt"
   ]
  },
  {
   "cell_type": "code",
   "execution_count": 65,
   "id": "b6f1b47e-acc3-4659-b27f-51f39cb08073",
   "metadata": {},
   "outputs": [],
   "source": [
    "top5= top_items.tail()"
   ]
  },
  {
   "cell_type": "code",
   "execution_count": 66,
   "id": "c0e37ae2-0a09-4184-a390-d091b8c374fc",
   "metadata": {},
   "outputs": [
    {
     "data": {
      "text/html": [
       "<div>\n",
       "<style scoped>\n",
       "    .dataframe tbody tr th:only-of-type {\n",
       "        vertical-align: middle;\n",
       "    }\n",
       "\n",
       "    .dataframe tbody tr th {\n",
       "        vertical-align: top;\n",
       "    }\n",
       "\n",
       "    .dataframe thead th {\n",
       "        text-align: right;\n",
       "    }\n",
       "</style>\n",
       "<table border=\"1\" class=\"dataframe\">\n",
       "  <thead>\n",
       "    <tr style=\"text-align: right;\">\n",
       "      <th></th>\n",
       "      <th>Item Name</th>\n",
       "      <th>Stock Value</th>\n",
       "    </tr>\n",
       "  </thead>\n",
       "  <tbody>\n",
       "    <tr>\n",
       "      <th>47</th>\n",
       "      <td>Milky Sauce Recipe--</td>\n",
       "      <td>23625.00</td>\n",
       "    </tr>\n",
       "    <tr>\n",
       "      <th>48</th>\n",
       "      <td>Dough Recipe--</td>\n",
       "      <td>37440.00</td>\n",
       "    </tr>\n",
       "    <tr>\n",
       "      <th>49</th>\n",
       "      <td>Marinato Boneless Thigh--</td>\n",
       "      <td>50452.00</td>\n",
       "    </tr>\n",
       "    <tr>\n",
       "      <th>50</th>\n",
       "      <td>Acha Cheese--</td>\n",
       "      <td>67500.00</td>\n",
       "    </tr>\n",
       "    <tr>\n",
       "      <th>51</th>\n",
       "      <td>Chicken Bonless--Kg</td>\n",
       "      <td>144410.99</td>\n",
       "    </tr>\n",
       "  </tbody>\n",
       "</table>\n",
       "</div>"
      ],
      "text/plain": [
       "                    Item Name  Stock Value\n",
       "47       Milky Sauce Recipe--     23625.00\n",
       "48             Dough Recipe--     37440.00\n",
       "49  Marinato Boneless Thigh--     50452.00\n",
       "50              Acha Cheese--     67500.00\n",
       "51        Chicken Bonless--Kg    144410.99"
      ]
     },
     "execution_count": 66,
     "metadata": {},
     "output_type": "execute_result"
    }
   ],
   "source": [
    "top5"
   ]
  },
  {
   "cell_type": "code",
   "execution_count": 79,
   "id": "cccbc763-b0b8-48ef-b425-86d02d537d99",
   "metadata": {},
   "outputs": [
    {
     "data": {
      "image/png": "[encoded data removed]",
      "text/plain": [
       "<Figure size 640x480 with 1 Axes>"
      ]
     },
     "metadata": {},
     "output_type": "display_data"
    }
   ],
   "source": [
    "plt.bar(top5['Item Name'], top5['Stock Value'], color='skyblue')\n",
    "plt.xlabel('Stock Value') \n",
    "plt.ylabel('Item Name')    \n",
    "plt.xticks(rotation=45, ha='right')   \n",
    "plt.show()  \n"
   ]
  },
  {
   "cell_type": "code",
   "execution_count": null,
   "id": "b12b90e5-f6f8-46c8-812d-ac6467ade944",
   "metadata": {},
   "outputs": [],
   "source": []
  }
 ],
 "metadata": {
  "kernelspec": {
   "display_name": "Python 3 (ipykernel)",
   "language": "python",
   "name": "python3"
  },
  "language_info": {
   "codemirror_mode": {
    "name": "ipython",
    "version": 3
   },
   "file_extension": ".py",
   "mimetype": "text/x-python",
   "name": "python",
   "nbconvert_exporter": "python",
   "pygments_lexer": "ipython3",
   "version": "3.12.7"
  }
 },
 "nbformat": 4,
 "nbformat_minor": 5
}
